{
 "cells": [
  {
   "cell_type": "markdown",
   "metadata": {},
   "source": [
    "## C(reate) R(ead) U(pdate) D(elete)"
   ]
  },
  {
   "cell_type": "code",
   "execution_count": null,
   "metadata": {},
   "outputs": [],
   "source": [
    "CREATE TABLE state_populations (^state VARCHAR(2) PRIMARY KEY,\n",
    "population NUMERIC\n",
    ");"
   ]
  },
  {
   "cell_type": "code",
   "execution_count": null,
   "metadata": {},
   "outputs": [],
   "source": [
    "CREATE TABLE countries (\n",
    "key INT PRIMARY KEY,\n",
    "name text UNIQUE,\n",
    "founding_year INT,\n",
    "capital text\n",
    ");"
   ]
  },
  {
   "cell_type": "code",
   "execution_count": null,
   "metadata": {},
   "outputs": [],
   "source": [
    "For instance, say you wanted to create a table based on the products table that only had products from the year 2014. Let's call this table products_2014. You could then write the following query:\n",
    "\n",
    "CREATE TABLE products_2014 AS (\n",
    "SELECT *\n",
    "FROM products\n",
    "WHERE year=2014\n",
    ");"
   ]
  },
  {
   "cell_type": "code",
   "execution_count": null,
   "metadata": {},
   "outputs": [],
   "source": [
    "To add new columns to an existing table, we use the ADD COLUMN statement as in the following query:\n",
    "\n",
    "ALTER TABLE {table_name}\n",
    "ADD COLUMN {column_name} {data_type};\n",
    "\n",
    "\n",
    "ALTER TABLE products\n",
    "ADD COLUMN weight INT;\n",
    "\n",
    "ALTER TABLE {table_name}\n",
    "DROP COLUMN {column_name};\n",
    "\n",
    "ALTER TABLE products\n",
    "DROP COLUMN weight;"
   ]
  },
  {
   "cell_type": "code",
   "execution_count": null,
   "metadata": {},
   "outputs": [],
   "source": [
    "Adding New Data\n",
    "\n",
    "As an example, let's say you wanted to insert a new scooter into the products table. \n",
    "This could be done with the following query:\n",
    "\n",
    "INSERT INTO products (product_id, model, year, product_type, base_msrp, production_start_date, production_end_date)\n",
    "VALUES (13, \"Nimbus 5000\", 2019, 'scooter', 500.00, '2019-03-03', '2020-03-03');\n",
    "\n",
    "INSERT INTO products (product_id, model, year, product_type, base_msrp, production_start_date, production_end_date) \n",
    "SELECT *\n",
    "FROM products\n",
    "WHERE year=2014;"
   ]
  },
  {
   "cell_type": "code",
   "execution_count": null,
   "metadata": {},
   "outputs": [],
   "source": [
    "Updating Existing Rows\n",
    "\n",
    "let's say that for the rest of the year, the company has decided to sell all scooter models before 2018 for $299.99. \n",
    "We could change the data in the products table using the following query:\n",
    "\n",
    "UPDATE products\n",
    "SET base_msrp = 299.99,\n",
    "WHERE product_type = 'scooter'\n",
    "AND year<2018;"
   ]
  },
  {
   "cell_type": "code",
   "execution_count": null,
   "metadata": {},
   "outputs": [],
   "source": [
    "UPDATE products\n",
    "SET base_msrp = base_msrp*1.10\n",
    "WHERE model='Model Chi'\n",
    "and year=2019;"
   ]
  },
  {
   "cell_type": "code",
   "execution_count": null,
   "metadata": {},
   "outputs": [],
   "source": [
    "Deleting Values from a Row\n",
    "\n",
    "Let's say, for instance, that we have the wrong email on file for the customer with the customer ID equal to 3. To fix that, we can use the following query:\n",
    "\n",
    "UPDATE customers\n",
    "SET email = NULL\n",
    "WHERE customer_id=3;"
   ]
  },
  {
   "cell_type": "code",
   "execution_count": null,
   "metadata": {},
   "outputs": [],
   "source": [
    "Deleting Rows from a Table\n",
    "Deleting a row from a table can be done using the DELETE statement, which looks like this:\n",
    "\n",
    "DELETE FROM {table_name}\n",
    "WHERE {conditional};\n",
    "DELETE FROM customers\n",
    "WHERE email='bjordan2@geocities.com';"
   ]
  },
  {
   "cell_type": "code",
   "execution_count": null,
   "metadata": {},
   "outputs": [],
   "source": [
    "If we wanted to delete all the data in the customers table without deleting the table, we could write the following query:\n",
    "\n",
    "DELETE FROM customers;\n",
    "\n",
    "Copy\n",
    "Alternatively, if you want to delete all the data in a query without deleting the table, you could use the TRUNCATE keyword as follows:\n",
    "\n",
    "TRUNCATE TABLE customers;"
   ]
  },
  {
   "cell_type": "code",
   "execution_count": null,
   "metadata": {},
   "outputs": [],
   "source": [
    "Deleting Tables\n",
    "\n",
    "DROP TABLE customers;"
   ]
  },
  {
   "cell_type": "code",
   "execution_count": null,
   "metadata": {},
   "outputs": [],
   "source": []
  },
  {
   "cell_type": "code",
   "execution_count": null,
   "metadata": {},
   "outputs": [],
   "source": [
    "SELECT first_name\n",
    "FROM customers\n",
    "WHERE state='AZ'\n",
    "ORDER BY first_name"
   ]
  },
  {
   "cell_type": "code",
   "execution_count": null,
   "metadata": {},
   "outputs": [],
   "source": [
    "SELECT *\n",
    "FROM products;"
   ]
  },
  {
   "cell_type": "code",
   "execution_count": null,
   "metadata": {},
   "outputs": [],
   "source": [
    "SELECT product_id, model\n",
    "FROM products;"
   ]
  },
  {
   "cell_type": "code",
   "execution_count": null,
   "metadata": {},
   "outputs": [],
   "source": [
    "SELECT model\n",
    "FROM products\n",
    "WHERE year=2014\n",
    "AND msrp<=1000;"
   ]
  },
  {
   "cell_type": "code",
   "execution_count": null,
   "metadata": {},
   "outputs": [],
   "source": [
    "SELECT model\n",
    "FROM products\n",
    "WHERE year=2014\n",
    "OR product_type='automobile';"
   ]
  },
  {
   "cell_type": "code",
   "execution_count": null,
   "metadata": {},
   "outputs": [],
   "source": [
    "SELECT *\n",
    "FROM products\n",
    "WHERE year>2014\n",
    "AND year<2016\n",
    "OR product_type='scooter';"
   ]
  },
  {
   "cell_type": "code",
   "execution_count": null,
   "metadata": {},
   "outputs": [],
   "source": [
    "SELECT *\n",
    "FROM products\n",
    "WHERE (year>2014 AND year<2016)\n",
    "OR product_type='scooter';"
   ]
  },
  {
   "cell_type": "code",
   "execution_count": null,
   "metadata": {},
   "outputs": [],
   "source": [
    "SELECT model\n",
    "FROM products\n",
    "WHERE year = 2014\n",
    "OR year = 2016\n",
    "OR year = 2019;"
   ]
  },
  {
   "cell_type": "code",
   "execution_count": null,
   "metadata": {},
   "outputs": [],
   "source": [
    "SELECT model\n",
    "FROM products\n",
    "WHERE year IN (2014, 2016, 2019);"
   ]
  },
  {
   "cell_type": "code",
   "execution_count": null,
   "metadata": {},
   "outputs": [],
   "source": [
    "SELECT model\n",
    "FROM products\n",
    "WHERE year NOT IN (2014, 2016, 2019);"
   ]
  },
  {
   "cell_type": "code",
   "execution_count": null,
   "metadata": {},
   "outputs": [],
   "source": [
    "SELECT model\n",
    "FROM products\n",
    "ORDER BY production_start_date DESC;"
   ]
  },
  {
   "cell_type": "code",
   "execution_count": null,
   "metadata": {},
   "outputs": [],
   "source": [
    "However, because product_id is the first column in the table, you could instead write:\n",
    "\n",
    "SELECT model\n",
    "FROM products\n",
    "ORDER BY 1;"
   ]
  },
  {
   "cell_type": "code",
   "execution_count": null,
   "metadata": {},
   "outputs": [],
   "source": [
    "SELECT *\n",
    "FROM products\n",
    "ORDER BY year DESC, base_msrp ASC;"
   ]
  },
  {
   "cell_type": "code",
   "execution_count": null,
   "metadata": {},
   "outputs": [],
   "source": [
    "SELECT model\n",
    "FROM products\n",
    "ORDER BY production_start_date\n",
    "LIMIT 5;"
   ]
  },
  {
   "cell_type": "code",
   "execution_count": null,
   "metadata": {},
   "outputs": [],
   "source": [
    "SELECT *\n",
    "FROM products\n",
    "WHERE production_end_date IS NULL"
   ]
  },
  {
   "cell_type": "code",
   "execution_count": null,
   "metadata": {},
   "outputs": [],
   "source": [
    "SELECT *\n",
    "FROM products\n",
    "WHERE production_end_date IS NOT NULL"
   ]
  },
  {
   "cell_type": "code",
   "execution_count": null,
   "metadata": {},
   "outputs": [],
   "source": [
    "SELECT username\n",
    "FROM salespeople\n",
    "WHERE gender= 'Female'\n",
    "ORDER BY hire_date\n",
    "LIMIT 10"
   ]
  },
  {
   "cell_type": "code",
   "execution_count": null,
   "metadata": {},
   "outputs": [],
   "source": [
    "##inner JOINS & ALIAS: \n",
    "inner joins will only return rows from the two tables, and only if the join predicate is met for both rows. \n",
    "Otherwise, no rows from either table are returned.\n",
    "\n",
    "SELECT s.*\n",
    "FROM salespeople s\n",
    "INNER JOIN dealerships d\n",
    "    ON d.dealership_id = s.dealership_id\n",
    "WHERE d.state = 'CA'\n",
    "ORDER BY 1;\n",
    "\n",
    "SELECT s.*\n",
    "FROM salespeople AS s\n",
    "INNER JOIN dealerships AS d\n",
    "    ON d.dealership_id = s.dealership_id\n",
    "WHERE d.state = 'CA'\n",
    "ORDER BY 1;"
   ]
  },
  {
   "cell_type": "code",
   "execution_count": null,
   "metadata": {},
   "outputs": [],
   "source": [
    "### OUTER JOIN:\n",
    "Left outer joins are where the left table (that is, the table mentioned first in a join clause) will have every row returned. \n",
    "If a row from the other table is not found, a row of NULL is returned.\n",
    "\n",
    "SELECT *\n",
    "FROM customers c\n",
    "LEFT OUTER JOIN emails e ON e.customer_id=c.customer_id\n",
    "ORDER BY c.customer_id\n",
    "LIMIT 1000;"
   ]
  },
  {
   "cell_type": "code",
   "execution_count": null,
   "metadata": {},
   "outputs": [],
   "source": [
    "SELECT *\n",
    "FROM customers c\n",
    "LEFT OUTER JOIN emails e ON c.customer_id = e.customer_id \n",
    "WHERE e.customer_id IS NULL\n",
    "ORDER BY c.customer_id\n",
    "LIMIT 1000"
   ]
  },
  {
   "cell_type": "code",
   "execution_count": null,
   "metadata": {},
   "outputs": [],
   "source": [
    "#A right outer join is very similar to a left join, except the table on the \"right\" (the second listed table) \n",
    "#will now have every row show up, and the \"left\" table will have NULLs if the join condition is not met. \n",
    "\n",
    "SELECT *\n",
    "FROM emails e\n",
    "RIGHT OUTER JOIN customers c ON e.customer_id=c.customer_id\n",
    "ORDER BY c.customer_id\n",
    "LIMIT 1000;"
   ]
  },
  {
   "cell_type": "code",
   "execution_count": null,
   "metadata": {},
   "outputs": [],
   "source": [
    "#The full outer join will return all rows from the left and right tables, regardless of whether the join predicate \n",
    "#is matched. For rows where the join predicate is met, the two rows are combined in a group. \n",
    "#For rows where they are not met, the row has NULL filled in. \n",
    "\n",
    "SELECT * \n",
    "FROM email e\n",
    "FULL OUTER JOIN customers c\n",
    "ON e.customer_id=c.customer_id;"
   ]
  },
  {
   "cell_type": "code",
   "execution_count": null,
   "metadata": {},
   "outputs": [],
   "source": [
    "SELECT c.customer_id,\n",
    "c.first_name,\n",
    "c.last_name,\n",
    "c.phone\n",
    "FROM sales s\n",
    "INNER JOIN customers c ON c.customer_id=s.customer_id\n",
    "INNER JOIN products p ON p.product_id=s.product_id\n",
    "WHERE p.product_type='automobile'\n",
    "AND c.phone IS NOT NULL"
   ]
  },
  {
   "cell_type": "code",
   "execution_count": null,
   "metadata": {},
   "outputs": [],
   "source": [
    "SELECT *\n",
    "FROM salespeople\n",
    "INNER JOIN (\n",
    "    SELECT * FROM dealerships\n",
    "    WHERE dealerships.state = 'CA'\n",
    "    ) d\n",
    "  ON d.dealership_id = salespeople.dealership_id\n",
    "ORDER BY 1"
   ]
  },
  {
   "cell_type": "code",
   "execution_count": null,
   "metadata": {},
   "outputs": [],
   "source": [
    "# UNION\n",
    "\n",
    "(\n",
    "SELECT street_address, city, state, postal_code\n",
    "FROM customers\n",
    "WHERE street_address IS NOT NULL\n",
    ")\n",
    "UNION\n",
    "(\n",
    "SELECT street_address, city, state, postal_code\n",
    "FROM dealerships\n",
    "WHERE street_address IS NOT NULL\n",
    ")\n",
    "ORDER BY 1;"
   ]
  },
  {
   "cell_type": "code",
   "execution_count": null,
   "metadata": {},
   "outputs": [],
   "source": [
    "Write a query that will make a list of ZoomZoom customers and company employees who live in Los Angeles, CA. \n",
    "The guest list should contain the first name, the last name, and whether the guest is a customer or an employee:\n",
    "\n",
    "(\n",
    "SELECT first_name, last_name, 'Customer' as guest_type\n",
    "FROM customers\n",
    "WHERE city='Los Angeles'\n",
    "AND state='CA'\n",
    ")\n",
    "UNION\n",
    "(\n",
    "SELECT first_name, last_name, 'Employee' as guest_type\n",
    "FROM salespeople s\n",
    "INNER JOIN dealerships d ON d.dealership_id=s.dealership_id\n",
    "WHERE d.city='Los Angeles'\n",
    "AND d.state='CA'\n",
    ")"
   ]
  },
  {
   "cell_type": "markdown",
   "metadata": {},
   "source": [
    "### Aggregate Functions"
   ]
  },
  {
   "cell_type": "code",
   "execution_count": null,
   "metadata": {},
   "outputs": [],
   "source": [
    "SELECT COUNT(customer_id) FROM customers;"
   ]
  },
  {
   "cell_type": "code",
   "execution_count": null,
   "metadata": {},
   "outputs": [],
   "source": [
    "SELECT COUNT(DISTINCT state) FROM customers;"
   ]
  },
  {
   "cell_type": "code",
   "execution_count": null,
   "metadata": {},
   "outputs": [],
   "source": [
    "SELECT COUNT(*) FROM customers WHERE state='CA';"
   ]
  },
  {
   "cell_type": "code",
   "execution_count": null,
   "metadata": {},
   "outputs": [],
   "source": [
    "SELECT SUM(base_msrp)::FLOAT/COUNT(*) AS avg_base_msrp FROM products"
   ]
  },
  {
   "cell_type": "code",
   "execution_count": null,
   "metadata": {},
   "outputs": [],
   "source": [
    "SELECT MIN(base_msrp), MAX(base_msrp), AVG(base_msrp), STDDEV(base_msrp)\n",
    "FROM products;"
   ]
  },
  {
   "cell_type": "code",
   "execution_count": null,
   "metadata": {},
   "outputs": [],
   "source": [
    "SELECT DISTINCT state FROM customers;"
   ]
  },
  {
   "cell_type": "code",
   "execution_count": null,
   "metadata": {},
   "outputs": [],
   "source": [
    "SELECT state, COUNT(*) FROM customers GROUP BY state"
   ]
  },
  {
   "cell_type": "code",
   "execution_count": null,
   "metadata": {},
   "outputs": [],
   "source": [
    "SELECT state, COUNT(*) FROM customers\n",
    "GROUP BY 1"
   ]
  },
  {
   "cell_type": "code",
   "execution_count": null,
   "metadata": {},
   "outputs": [],
   "source": [
    "#If you want to return the output in alphabetical order, simply use the following query:\n",
    "\n",
    "SELECT state, COUNT(*) FROM customers GROUP BY state ORDER BY state\n",
    "\n",
    "#Alternatively, we can write:\n",
    "\n",
    "SELECT state, COUNT(*) FROM customers GROUP BY 1ORDER BY 1"
   ]
  },
  {
   "cell_type": "code",
   "execution_count": null,
   "metadata": {},
   "outputs": [],
   "source": [
    "#Customer count by the state query output in alphabetical order\n",
    "\n",
    "SELECT state, COUNT(*) FROM customers GROUP BY state ORDER BY COUNT(*)"
   ]
  },
  {
   "cell_type": "code",
   "execution_count": null,
   "metadata": {},
   "outputs": [],
   "source": [
    "#Customer count by the state query output in increasing order\n",
    "\n",
    "SELECT state, COUNT(*) FROM customers WHERE gender='M' GROUP BY state ORDER BY state"
   ]
  },
  {
   "cell_type": "code",
   "execution_count": null,
   "metadata": {},
   "outputs": [],
   "source": [
    "SELECT state, gender, COUNT(*) FROM customers GROUP BY state, genderORDER BY state, gender"
   ]
  },
  {
   "cell_type": "code",
   "execution_count": null,
   "metadata": {},
   "outputs": [],
   "source": [
    "SELECT product_type, MIN(base_msrp), MAX(base_msrp), AVG(base_msrp), STDDEV(base_msrp)\n",
    "FROM products\n",
    "GROUP BY 1\n",
    "ORDER BY 1;"
   ]
  },
  {
   "cell_type": "markdown",
   "metadata": {},
   "source": [
    "### Grouping Sets\n",
    "Now, let's say you wanted to count the total number of customers you have in each state, while simultaneously, in the same aggregate functions, counting the total number of male and female customers you have in each state. "
   ]
  },
  {
   "cell_type": "code",
   "execution_count": null,
   "metadata": {},
   "outputs": [],
   "source": [
    "(\n",
    "SELECT state, NULL as gender, COUNT(*)\n",
    "FROM customers\n",
    "GROUP BY 1, 2\n",
    "ORDER BY 1, 2\n",
    ")\n",
    "UNION ALL\n",
    "(\n",
    "(\n",
    "SELECT state, gender, COUNT(*)\n",
    "FROM customers\n",
    "GROUP BY 1, 2\n",
    "ORDER BY 1, 2\n",
    ")\n",
    ")\n",
    "ORDER BY 1, 2\n",
    "\n",
    "#Alternative\n",
    "\n",
    "SELECT state, gender, COUNT(*)\n",
    "FROM customers\n",
    "GROUP BY GROUPING SETS (\n",
    "(state),\n",
    "(gender),\n",
    "(state, gender)\n",
    ")\n",
    "ORDER BY 1, 2"
   ]
  },
  {
   "cell_type": "code",
   "execution_count": null,
   "metadata": {},
   "outputs": [],
   "source": [
    "# Customer count by the state with at least 1,000 customers\n",
    "SELECT state, COUNT(*)\n",
    "FROM customers\n",
    "GROUP BY state\n",
    "HAVING COUNT(*)>=1,000\n",
    "ORDER BY state"
   ]
  },
  {
   "cell_type": "markdown",
   "metadata": {},
   "source": [
    "### Transforming Date Types"
   ]
  },
  {
   "cell_type": "code",
   "execution_count": null,
   "metadata": {},
   "outputs": [],
   "source": [
    "# SELECT current_date,\n",
    "    EXTRACT(year FROM current_date) AS year,\n",
    "    EXTRACT(month FROM current_date) AS month,\n",
    "    EXTRACT(day FROM current_date) AS day;"
   ]
  },
  {
   "cell_type": "code",
   "execution_count": null,
   "metadata": {},
   "outputs": [],
   "source": [
    "# Similarly, we can abbreviate these components as y, mon, and d, and Postgres will understand what we want:\n",
    "\n",
    "# SELECT current_date,\n",
    "    EXTRACT(y FROM current_date) AS year,\n",
    "    EXTRACT(mon FROM current_date) AS month,\n",
    "    EXTRACT(d FROM current_date) AS day;"
   ]
  },
  {
   "cell_type": "code",
   "execution_count": null,
   "metadata": {},
   "outputs": [],
   "source": [
    "# SELECT current_date,\n",
    "    EXTRACT(dow FROM current_date) AS day_of_week,\n",
    "    EXTRACT(week FROM current_date) AS week_of_year,\n",
    "    EXTRACT(quarter FROM current_date) AS quarter;"
   ]
  },
  {
   "cell_type": "code",
   "execution_count": null,
   "metadata": {},
   "outputs": [],
   "source": [
    "# Intervals\n",
    "SELECT INTERVAL '5 days';\n",
    "\n",
    "#Intervals are useful for subtracting timestamps, for example:\n",
    "\n",
    "SELECT TIMESTAMP '2016-03-01 00:00:00' - TIMESTAMP '2016-02-01 00:00:00' AS days_in_feb;\n",
    "\n",
    "#Or, alternatively, intervals can be used to add the number of days to a timestamp:\n",
    "\n",
    "SELECT TIMESTAMP '2016-03-01 00:00:00' + INTERVAL '7 days' AS new_date;\n",
    "\n",
    "SELECT DATE '2016-03-01' + 7 AS new_date;\n",
    "\n",
    "# Similarly, we can subtract two dates and get an integer result:\n",
    "\n",
    "SELECT DATE '2016-03-01' - DATE '2016-02-01' AS days_in_feb;"
   ]
  },
  {
   "cell_type": "code",
   "execution_count": 4,
   "metadata": {},
   "outputs": [
    {
     "name": "stderr",
     "output_type": "stream",
     "text": [
      "UsageError: Cell magic `%%sql` not found.\n"
     ]
    }
   ],
   "source": [
    "SELECT DATE_TRUNC('month', created_at) AS month_date,\n",
    "COUNT(1) AS monthly_chats_vol\n",
    "FROM conversations\n",
    "WHERE EXTRACT(year FROM created_at) = 2020\n",
    "GROUP BY 1\n",
    "ORDER BY 1;"
   ]
  },
  {
   "cell_type": "code",
   "execution_count": null,
   "metadata": {},
   "outputs": [],
   "source": [
    "# First, let's look at the number of monthly sales. We can use the following aggregate query using the DATE_TRUNC method:\n",
    "\n",
    "SELECT DATE_TRUNC('month', sales_transaction_date)\n",
    "AS month_date,\n",
    "COUNT(1) AS number_of_sales\n",
    "FROM sales\n",
    "WHERE EXTRACT(year FROM sales_transaction_date) = 2018\n",
    "GROUP BY 1\n",
    "ORDER BY 1;\n",
    "\n"
   ]
  },
  {
   "cell_type": "code",
   "execution_count": null,
   "metadata": {},
   "outputs": [],
   "source": [
    "#Next, we can look at how this compares with the number of new customers joining each month:\n",
    "\n",
    "SELECT \n",
    "    DATE_TRUNC('month', date_added)\n",
    "        AS month_date,\n",
    "    COUNT(1) AS number_of_new_customers\n",
    "FROM customers\n",
    "WHERE EXTRACT(year FROM date_added) = 2018\n",
    "GROUP BY 1\n",
    "ORDER BY 1;"
   ]
  },
  {
   "cell_type": "code",
   "execution_count": null,
   "metadata": {},
   "outputs": [],
   "source": []
  },
  {
   "cell_type": "code",
   "execution_count": null,
   "metadata": {},
   "outputs": [],
   "source": []
  },
  {
   "cell_type": "code",
   "execution_count": null,
   "metadata": {},
   "outputs": [],
   "source": []
  },
  {
   "cell_type": "code",
   "execution_count": null,
   "metadata": {},
   "outputs": [],
   "source": []
  },
  {
   "cell_type": "code",
   "execution_count": null,
   "metadata": {},
   "outputs": [],
   "source": []
  },
  {
   "cell_type": "code",
   "execution_count": null,
   "metadata": {},
   "outputs": [],
   "source": []
  },
  {
   "cell_type": "code",
   "execution_count": null,
   "metadata": {},
   "outputs": [],
   "source": []
  },
  {
   "cell_type": "code",
   "execution_count": null,
   "metadata": {},
   "outputs": [],
   "source": []
  },
  {
   "cell_type": "code",
   "execution_count": null,
   "metadata": {},
   "outputs": [],
   "source": []
  },
  {
   "cell_type": "code",
   "execution_count": null,
   "metadata": {},
   "outputs": [],
   "source": []
  },
  {
   "cell_type": "code",
   "execution_count": null,
   "metadata": {},
   "outputs": [],
   "source": []
  },
  {
   "cell_type": "code",
   "execution_count": null,
   "metadata": {},
   "outputs": [],
   "source": []
  },
  {
   "cell_type": "code",
   "execution_count": null,
   "metadata": {},
   "outputs": [],
   "source": []
  },
  {
   "cell_type": "code",
   "execution_count": null,
   "metadata": {},
   "outputs": [],
   "source": []
  },
  {
   "cell_type": "code",
   "execution_count": null,
   "metadata": {},
   "outputs": [],
   "source": []
  },
  {
   "cell_type": "code",
   "execution_count": null,
   "metadata": {},
   "outputs": [],
   "source": []
  },
  {
   "cell_type": "code",
   "execution_count": null,
   "metadata": {},
   "outputs": [],
   "source": []
  },
  {
   "cell_type": "code",
   "execution_count": null,
   "metadata": {},
   "outputs": [],
   "source": []
  },
  {
   "cell_type": "code",
   "execution_count": null,
   "metadata": {},
   "outputs": [],
   "source": []
  },
  {
   "cell_type": "code",
   "execution_count": null,
   "metadata": {},
   "outputs": [],
   "source": []
  },
  {
   "cell_type": "code",
   "execution_count": null,
   "metadata": {},
   "outputs": [],
   "source": []
  },
  {
   "cell_type": "code",
   "execution_count": null,
   "metadata": {},
   "outputs": [],
   "source": []
  },
  {
   "cell_type": "code",
   "execution_count": null,
   "metadata": {},
   "outputs": [],
   "source": []
  },
  {
   "cell_type": "code",
   "execution_count": null,
   "metadata": {},
   "outputs": [],
   "source": []
  },
  {
   "cell_type": "code",
   "execution_count": null,
   "metadata": {},
   "outputs": [],
   "source": []
  },
  {
   "cell_type": "code",
   "execution_count": null,
   "metadata": {},
   "outputs": [],
   "source": []
  },
  {
   "cell_type": "code",
   "execution_count": null,
   "metadata": {},
   "outputs": [],
   "source": []
  },
  {
   "cell_type": "code",
   "execution_count": null,
   "metadata": {},
   "outputs": [],
   "source": []
  },
  {
   "cell_type": "code",
   "execution_count": null,
   "metadata": {},
   "outputs": [],
   "source": []
  },
  {
   "cell_type": "code",
   "execution_count": null,
   "metadata": {},
   "outputs": [],
   "source": []
  },
  {
   "cell_type": "code",
   "execution_count": null,
   "metadata": {},
   "outputs": [],
   "source": []
  }
 ],
 "metadata": {
  "kernelspec": {
   "display_name": "Python 3",
   "language": "python",
   "name": "python3"
  },
  "language_info": {
   "codemirror_mode": {
    "name": "ipython",
    "version": 3
   },
   "file_extension": ".py",
   "mimetype": "text/x-python",
   "name": "python",
   "nbconvert_exporter": "python",
   "pygments_lexer": "ipython3",
   "version": "3.9.0"
  }
 },
 "nbformat": 4,
 "nbformat_minor": 4
}
